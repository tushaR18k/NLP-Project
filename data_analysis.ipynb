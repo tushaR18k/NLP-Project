{
 "cells": [
  {
   "cell_type": "code",
   "execution_count": 28,
   "id": "f33451d5-4d7d-470f-937d-456f4a14df34",
   "metadata": {},
   "outputs": [],
   "source": [
    "import importlib\n",
    "import Dataset\n",
    "importlib.reload(Dataset)\n",
    "from Dataset import MAMIDataset\n"
   ]
  },
  {
   "cell_type": "code",
   "execution_count": 29,
   "id": "3c8c5672-fb59-4249-8335-0e6ad0d08ba9",
   "metadata": {},
   "outputs": [
    {
     "data": {
      "application/vnd.jupyter.widget-view+json": {
       "model_id": "837e777e3cae427e9470039ff0c6ef32",
       "version_major": 2,
       "version_minor": 0
      },
      "text/plain": [
       "  0%|          | 0/8000 [00:00<?, ?it/s]"
      ]
     },
     "metadata": {},
     "output_type": "display_data"
    },
    {
     "data": {
      "application/vnd.jupyter.widget-view+json": {
       "model_id": "237a6c89011e4e2090391a43bca4b806",
       "version_major": 2,
       "version_minor": 0
      },
      "text/plain": [
       "  0%|          | 0/8000 [00:00<?, ?it/s]"
      ]
     },
     "metadata": {},
     "output_type": "display_data"
    },
    {
     "data": {
      "application/vnd.jupyter.widget-view+json": {
       "model_id": "83b1540efb5841cf82f7ed23191adbd7",
       "version_major": 2,
       "version_minor": 0
      },
      "text/plain": [
       "  0%|          | 0/8000 [00:00<?, ?it/s]"
      ]
     },
     "metadata": {},
     "output_type": "display_data"
    },
    {
     "data": {
      "application/vnd.jupyter.widget-view+json": {
       "model_id": "f83709aec0284261b872f7466b0ed3aa",
       "version_major": 2,
       "version_minor": 0
      },
      "text/plain": [
       "  0%|          | 0/7926 [00:00<?, ?it/s]"
      ]
     },
     "metadata": {},
     "output_type": "display_data"
    },
    {
     "name": "stderr",
     "output_type": "stream",
     "text": [
      "/Users/arushirai/Downloads/Notebooks_export/NLP-Project/Dataset.py:72: SettingWithCopyWarning: \n",
      "A value is trying to be set on a copy of a slice from a DataFrame.\n",
      "Try using .loc[row_indexer,col_indexer] = value instead\n",
      "\n",
      "See the caveats in the documentation: https://pandas.pydata.org/pandas-docs/stable/user_guide/indexing.html#returning-a-view-versus-a-copy\n",
      "  df['indexed_tokens'] = df.tokens.progress_apply(\n"
     ]
    },
    {
     "data": {
      "application/vnd.jupyter.widget-view+json": {
       "model_id": "ba055e1265e34d52a13b35c38be21549",
       "version_major": 2,
       "version_minor": 0
      },
      "text/plain": [
       "  0%|          | 0/7926 [00:00<?, ?it/s]"
      ]
     },
     "metadata": {},
     "output_type": "display_data"
    },
    {
     "name": "stderr",
     "output_type": "stream",
     "text": [
      "/Users/arushirai/Downloads/Notebooks_export/NLP-Project/Dataset.py:77: SettingWithCopyWarning: \n",
      "A value is trying to be set on a copy of a slice from a DataFrame.\n",
      "Try using .loc[row_indexer,col_indexer] = value instead\n",
      "\n",
      "See the caveats in the documentation: https://pandas.pydata.org/pandas-docs/stable/user_guide/indexing.html#returning-a-view-versus-a-copy\n",
      "  df['bow_vector'] = df.indexed_tokens.progress_apply(\n",
      "/Users/arushirai/Downloads/Notebooks_export/NLP-Project/Dataset.py:88: SettingWithCopyWarning: \n",
      "A value is trying to be set on a copy of a slice from a DataFrame.\n",
      "Try using .loc[row_indexer,col_indexer] = value instead\n",
      "\n",
      "See the caveats in the documentation: https://pandas.pydata.org/pandas-docs/stable/user_guide/indexing.html#returning-a-view-versus-a-copy\n",
      "  vectors = vectorizer.fit_transform(df.tokens).toarray()\n"
     ]
    }
   ],
   "source": [
    "from params import *\n",
    "train_dataset = MAMIDataset(MAX_LEN,MAX_VOCAB, split='train')\n"
   ]
  },
  {
   "cell_type": "code",
   "execution_count": 30,
   "id": "3441179b-b727-44fe-862a-75e1225cddfe",
   "metadata": {},
   "outputs": [
    {
     "data": {
      "text/plain": [
       "[('women', 752),\n",
       " ('like', 639),\n",
       " ('imgflip.com', 528),\n",
       " (\"i'm\", 475),\n",
       " ('woman', 457),\n",
       " ('get', 440),\n",
       " ('men', 327),\n",
       " ('-', 314),\n",
       " ('wife', 300),\n",
       " ('one', 295)]"
      ]
     },
     "execution_count": 30,
     "metadata": {},
     "output_type": "execute_result"
    }
   ],
   "source": [
    "from collections import Counter\n",
    "# all words\n",
    "all_words=[]\n",
    "[all_words.extend([token.lower() for token in i.split() if token.lower() not in train_dataset.stop_words]) for i in train_dataset.text]\n",
    "Counter(all_words).most_common(10)"
   ]
  },
  {
   "cell_type": "code",
   "execution_count": 31,
   "id": "46fd76f4-a0de-4f26-b5bb-2d91afaa2278",
   "metadata": {},
   "outputs": [
    {
     "data": {
      "text/plain": [
       "True"
      ]
     },
     "execution_count": 31,
     "metadata": {},
     "output_type": "execute_result"
    }
   ],
   "source": [
    "'a' in train_dataset.stop_words"
   ]
  },
  {
   "cell_type": "code",
   "execution_count": 33,
   "id": "6ad92aac-7630-42ec-a0e2-da7213a0b373",
   "metadata": {},
   "outputs": [
    {
     "name": "stderr",
     "output_type": "stream",
     "text": [
      "7926it [00:00, 192392.36it/s]\n"
     ]
    },
    {
     "data": {
      "text/plain": [
       "[('women', 606),\n",
       " ('like', 383),\n",
       " ('woman', 304),\n",
       " ('imgflip.com', 233),\n",
       " ('men', 229),\n",
       " ('get', 223),\n",
       " ('girls', 214),\n",
       " ('girl', 207),\n",
       " (\"i'm\", 199),\n",
       " ('quickmeme.com', 192)]"
      ]
     },
     "execution_count": 33,
     "metadata": {},
     "output_type": "execute_result"
    }
   ],
   "source": [
    "from tqdm import tqdm \n",
    "misogyny_words=[]\n",
    "pb = tqdm(enumerate(train_dataset.text))\n",
    "for i, text in pb:\n",
    "    if train_dataset.label_arr[i][0] == 1:\n",
    "        misogyny_words.extend([token.lower() for token in text.split() if token.lower() not in train_dataset.stop_words])\n",
    "        \n",
    "Counter(misogyny_words).most_common(10)"
   ]
  },
  {
   "cell_type": "code",
   "execution_count": 35,
   "id": "fb440753-82a3-4132-8605-06c7c13c14b2",
   "metadata": {},
   "outputs": [
    {
     "name": "stderr",
     "output_type": "stream",
     "text": [
      "7926it [00:00, 111657.64it/s]\n"
     ]
    },
    {
     "data": {
      "text/plain": [
       "[('imgflip.com', 295),\n",
       " (\"i'm\", 276),\n",
       " ('like', 256),\n",
       " ('girlfriend', 226),\n",
       " ('call', 224),\n",
       " ('house', 217),\n",
       " ('get', 217),\n",
       " ('me:', 211),\n",
       " ('wife', 190),\n",
       " ('one', 173)]"
      ]
     },
     "execution_count": 35,
     "metadata": {},
     "output_type": "execute_result"
    }
   ],
   "source": [
    "from tqdm import tqdm \n",
    "non_misogyny_words=[]\n",
    "pb = tqdm(enumerate(train_dataset.text))\n",
    "for i, text in pb:\n",
    "    if train_dataset.label_arr[i][0] == 0:\n",
    "        non_misogyny_words.extend([token.lower() for token in text.split() if token.lower() not in train_dataset.stop_words])\n",
    "        \n",
    "Counter(non_misogyny_words).most_common(10)"
   ]
  },
  {
   "cell_type": "code",
   "execution_count": 32,
   "id": "3bb2fa9b-2272-4feb-88d1-5a5b0138c61b",
   "metadata": {},
   "outputs": [
    {
     "data": {
      "text/plain": [
       "7926"
      ]
     },
     "execution_count": 32,
     "metadata": {},
     "output_type": "execute_result"
    }
   ],
   "source": [
    "len(train_dataset.text)"
   ]
  },
  {
   "cell_type": "code",
   "execution_count": 27,
   "id": "4b00f1d5-3034-4d6e-9bbc-1d6d6fa9e4cf",
   "metadata": {},
   "outputs": [
    {
     "data": {
      "text/plain": [
       "7926"
      ]
     },
     "execution_count": 27,
     "metadata": {},
     "output_type": "execute_result"
    }
   ],
   "source": [
    "len(train_dataset.label_arr)"
   ]
  },
  {
   "cell_type": "code",
   "execution_count": 48,
   "id": "ec5cf52d-df7a-495d-972f-9cb686736f1c",
   "metadata": {},
   "outputs": [],
   "source": [
    "non_misogyny_words_set=set(list(zip(*Counter(non_misogyny_words).most_common(50)))[0])\n",
    "misogyny_words_set=set(list(zip(*Counter(misogyny_words).most_common(50)))[0])"
   ]
  },
  {
   "cell_type": "code",
   "execution_count": 49,
   "id": "f109e05f-96d7-4981-b65b-c08d92096613",
   "metadata": {},
   "outputs": [
    {
     "data": {
      "text/plain": [
       "{'-',\n",
       " \"can't\",\n",
       " 'female',\n",
       " 'first',\n",
       " 'get',\n",
       " 'go',\n",
       " 'good',\n",
       " 'got',\n",
       " 'hooker',\n",
       " \"i'm\",\n",
       " 'imgflip.com',\n",
       " 'kitchen',\n",
       " 'know',\n",
       " 'like',\n",
       " 'made',\n",
       " 'make',\n",
       " 'man',\n",
       " 'men',\n",
       " 'never',\n",
       " 'new',\n",
       " 'one',\n",
       " 'see',\n",
       " 'think',\n",
       " 'time',\n",
       " 'want',\n",
       " 'wife',\n",
       " 'woman',\n",
       " 'women'}"
      ]
     },
     "execution_count": 49,
     "metadata": {},
     "output_type": "execute_result"
    }
   ],
   "source": [
    "non_misogyny_words_set.intersection(misogyny_words_set)"
   ]
  },
  {
   "cell_type": "code",
   "execution_count": 56,
   "id": "0ed25f2d-fc4a-436b-a7dd-f9d3d3a712d5",
   "metadata": {},
   "outputs": [
    {
     "name": "stdout",
     "output_type": "stream",
     "text": [
      "4002 3924\n"
     ]
    }
   ],
   "source": [
    "# getting counts per class\n",
    "m_count=sum([int([i][0][0]) for i in train_dataset.label_arr])\n",
    "nm_count=len(train_dataset.label_arr) - m_count\n",
    "print(m_count, nm_count)"
   ]
  },
  {
   "cell_type": "markdown",
   "id": "9ac76d15-9ca0-4ffd-bdbc-f926cf2a5603",
   "metadata": {},
   "source": [
    "# Get examples"
   ]
  },
  {
   "cell_type": "code",
   "execution_count": 1,
   "id": "f113e09c-08d5-4a06-b5ae-13585a504089",
   "metadata": {},
   "outputs": [
    {
     "name": "stderr",
     "output_type": "stream",
     "text": [
      "[nltk_data] Downloading package stopwords to\n",
      "[nltk_data]     /Users/arushirai/nltk_data...\n",
      "[nltk_data]   Package stopwords is already up-to-date!\n",
      "[nltk_data] Downloading package wordnet to\n",
      "[nltk_data]     /Users/arushirai/nltk_data...\n",
      "[nltk_data]   Package wordnet is already up-to-date!\n"
     ]
    }
   ],
   "source": [
    "from analysis_script import TextDataset"
   ]
  },
  {
   "cell_type": "code",
   "execution_count": 3,
   "id": "9cfb5c5a-8aac-4cad-a1c6-12b77281519c",
   "metadata": {},
   "outputs": [
    {
     "name": "stdout",
     "output_type": "stream",
     "text": [
      "Loaded the part of speech\n",
      "Finished vectorizing the part of speech\n",
      "Average sentence length:  22.2778\n"
     ]
    }
   ],
   "source": [
    "from collections import Counter, namedtuple\n",
    "\n",
    "args=namedtuple(typename='test', field_names=['data_path', 'dataset'])\n",
    "args.data_path='./Data/TRAINING/training.csv'\n",
    "args.dataset='mami'\n",
    "dataset=TextDataset(path_to_data=args.data_path, dataset_name=args.dataset)\n",
    "    \n",
    "# get average sentence length\n",
    "print(\"Average sentence length: \", dataset.get_average_sentence_length(args))"
   ]
  },
  {
   "cell_type": "code",
   "execution_count": 18,
   "id": "9bccfe31-cda0-46d2-857f-84b38088996b",
   "metadata": {},
   "outputs": [
    {
     "data": {
      "text/html": [
       "<div>\n",
       "<style scoped>\n",
       "    .dataframe tbody tr th:only-of-type {\n",
       "        vertical-align: middle;\n",
       "    }\n",
       "\n",
       "    .dataframe tbody tr th {\n",
       "        vertical-align: top;\n",
       "    }\n",
       "\n",
       "    .dataframe thead th {\n",
       "        text-align: right;\n",
       "    }\n",
       "</style>\n",
       "<table border=\"1\" class=\"dataframe\">\n",
       "  <thead>\n",
       "    <tr style=\"text-align: right;\">\n",
       "      <th></th>\n",
       "      <th>file_name</th>\n",
       "      <th>misogynous</th>\n",
       "      <th>shaming</th>\n",
       "      <th>stereotype</th>\n",
       "      <th>objectification</th>\n",
       "      <th>violence</th>\n",
       "      <th>Text Transcription</th>\n",
       "      <th>text</th>\n",
       "      <th>sentence_counts</th>\n",
       "    </tr>\n",
       "  </thead>\n",
       "  <tbody>\n",
       "    <tr>\n",
       "      <th>80</th>\n",
       "      <td>10095.jpg</td>\n",
       "      <td>1</td>\n",
       "      <td>1</td>\n",
       "      <td>0</td>\n",
       "      <td>0</td>\n",
       "      <td>0</td>\n",
       "      <td>KA'PLAH! Says new Ms. Planet Klingon</td>\n",
       "      <td>[KA, ', PLAH, !, Says, new, Ms, ., Planet, Kli...</td>\n",
       "      <td>10</td>\n",
       "    </tr>\n",
       "    <tr>\n",
       "      <th>86</th>\n",
       "      <td>10100.jpg</td>\n",
       "      <td>1</td>\n",
       "      <td>1</td>\n",
       "      <td>0</td>\n",
       "      <td>1</td>\n",
       "      <td>0</td>\n",
       "      <td>destroying the pussy damaging the female repro...</td>\n",
       "      <td>[destroying, the, pussy, damaging, the, female...</td>\n",
       "      <td>10</td>\n",
       "    </tr>\n",
       "    <tr>\n",
       "      <th>195</th>\n",
       "      <td>10208.jpg</td>\n",
       "      <td>0</td>\n",
       "      <td>0</td>\n",
       "      <td>0</td>\n",
       "      <td>0</td>\n",
       "      <td>0</td>\n",
       "      <td>when your wife starts coughing during quaranti...</td>\n",
       "      <td>[when, your, wife, starts, coughing, during, q...</td>\n",
       "      <td>10</td>\n",
       "    </tr>\n",
       "    <tr>\n",
       "      <th>200</th>\n",
       "      <td>10213.jpg</td>\n",
       "      <td>0</td>\n",
       "      <td>0</td>\n",
       "      <td>0</td>\n",
       "      <td>0</td>\n",
       "      <td>0</td>\n",
       "      <td>TITANIC: *sinks* LOBSTERS IN THE KITCHEN:</td>\n",
       "      <td>[TITANIC, :, *, sinks, *, LOBSTERS, IN, THE, K...</td>\n",
       "      <td>10</td>\n",
       "    </tr>\n",
       "    <tr>\n",
       "      <th>244</th>\n",
       "      <td>1026.jpg</td>\n",
       "      <td>1</td>\n",
       "      <td>0</td>\n",
       "      <td>1</td>\n",
       "      <td>0</td>\n",
       "      <td>1</td>\n",
       "      <td>POV: You're my wife made with mematic</td>\n",
       "      <td>[POV, :, You, ', re, my, wife, made, with, mem...</td>\n",
       "      <td>10</td>\n",
       "    </tr>\n",
       "    <tr>\n",
       "      <th>...</th>\n",
       "      <td>...</td>\n",
       "      <td>...</td>\n",
       "      <td>...</td>\n",
       "      <td>...</td>\n",
       "      <td>...</td>\n",
       "      <td>...</td>\n",
       "      <td>...</td>\n",
       "      <td>...</td>\n",
       "      <td>...</td>\n",
       "    </tr>\n",
       "    <tr>\n",
       "      <th>9786</th>\n",
       "      <td>9787.jpg</td>\n",
       "      <td>1</td>\n",
       "      <td>0</td>\n",
       "      <td>1</td>\n",
       "      <td>0</td>\n",
       "      <td>0</td>\n",
       "      <td>I NEED SOMEONE TO SHOW ME MY PLACE. LOVE</td>\n",
       "      <td>[I, NEED, SOMEONE, TO, SHOW, ME, MY, PLACE, .,...</td>\n",
       "      <td>10</td>\n",
       "    </tr>\n",
       "    <tr>\n",
       "      <th>9928</th>\n",
       "      <td>993.jpg</td>\n",
       "      <td>1</td>\n",
       "      <td>0</td>\n",
       "      <td>1</td>\n",
       "      <td>0</td>\n",
       "      <td>1</td>\n",
       "      <td>THE KITCHEN 111 111 IS THAT WAY memegenerator.net</td>\n",
       "      <td>[THE, KITCHEN, 111, 111, IS, THAT, WAY, memege...</td>\n",
       "      <td>10</td>\n",
       "    </tr>\n",
       "    <tr>\n",
       "      <th>9946</th>\n",
       "      <td>9948.jpg</td>\n",
       "      <td>1</td>\n",
       "      <td>0</td>\n",
       "      <td>0</td>\n",
       "      <td>1</td>\n",
       "      <td>0</td>\n",
       "      <td>A Sugar Baby is a Simps prostitute CHANGE MY MIND</td>\n",
       "      <td>[A, Sugar, Baby, is, a, Simps, prostitute, CHA...</td>\n",
       "      <td>10</td>\n",
       "    </tr>\n",
       "    <tr>\n",
       "      <th>9964</th>\n",
       "      <td>9967.jpg</td>\n",
       "      <td>1</td>\n",
       "      <td>0</td>\n",
       "      <td>1</td>\n",
       "      <td>0</td>\n",
       "      <td>0</td>\n",
       "      <td>CHILL WOMAN GO BACK TO THE KITCHEN memegenerat...</td>\n",
       "      <td>[CHILL, WOMAN, GO, BACK, TO, THE, KITCHEN, mem...</td>\n",
       "      <td>10</td>\n",
       "    </tr>\n",
       "    <tr>\n",
       "      <th>9995</th>\n",
       "      <td>15002.jpg</td>\n",
       "      <td>0</td>\n",
       "      <td>0</td>\n",
       "      <td>0</td>\n",
       "      <td>0</td>\n",
       "      <td>0</td>\n",
       "      <td>WAITING FOR THE END OF THE COVID  imgflip.com</td>\n",
       "      <td>[WAITING, FOR, THE, END, OF, THE, COVID, imgfl...</td>\n",
       "      <td>10</td>\n",
       "    </tr>\n",
       "  </tbody>\n",
       "</table>\n",
       "<p>382 rows × 9 columns</p>\n",
       "</div>"
      ],
      "text/plain": [
       "      file_name  misogynous  shaming  stereotype  objectification  violence  \\\n",
       "80    10095.jpg           1        1           0                0         0   \n",
       "86    10100.jpg           1        1           0                1         0   \n",
       "195   10208.jpg           0        0           0                0         0   \n",
       "200   10213.jpg           0        0           0                0         0   \n",
       "244    1026.jpg           1        0           1                0         1   \n",
       "...         ...         ...      ...         ...              ...       ...   \n",
       "9786   9787.jpg           1        0           1                0         0   \n",
       "9928    993.jpg           1        0           1                0         1   \n",
       "9946   9948.jpg           1        0           0                1         0   \n",
       "9964   9967.jpg           1        0           1                0         0   \n",
       "9995  15002.jpg           0        0           0                0         0   \n",
       "\n",
       "                                     Text Transcription  \\\n",
       "80                 KA'PLAH! Says new Ms. Planet Klingon   \n",
       "86    destroying the pussy damaging the female repro...   \n",
       "195   when your wife starts coughing during quaranti...   \n",
       "200           TITANIC: *sinks* LOBSTERS IN THE KITCHEN:   \n",
       "244               POV: You're my wife made with mematic   \n",
       "...                                                 ...   \n",
       "9786           I NEED SOMEONE TO SHOW ME MY PLACE. LOVE   \n",
       "9928  THE KITCHEN 111 111 IS THAT WAY memegenerator.net   \n",
       "9946  A Sugar Baby is a Simps prostitute CHANGE MY MIND   \n",
       "9964  CHILL WOMAN GO BACK TO THE KITCHEN memegenerat...   \n",
       "9995      WAITING FOR THE END OF THE COVID  imgflip.com   \n",
       "\n",
       "                                                   text  sentence_counts  \n",
       "80    [KA, ', PLAH, !, Says, new, Ms, ., Planet, Kli...               10  \n",
       "86    [destroying, the, pussy, damaging, the, female...               10  \n",
       "195   [when, your, wife, starts, coughing, during, q...               10  \n",
       "200   [TITANIC, :, *, sinks, *, LOBSTERS, IN, THE, K...               10  \n",
       "244   [POV, :, You, ', re, my, wife, made, with, mem...               10  \n",
       "...                                                 ...              ...  \n",
       "9786  [I, NEED, SOMEONE, TO, SHOW, ME, MY, PLACE, .,...               10  \n",
       "9928  [THE, KITCHEN, 111, 111, IS, THAT, WAY, memege...               10  \n",
       "9946  [A, Sugar, Baby, is, a, Simps, prostitute, CHA...               10  \n",
       "9964  [CHILL, WOMAN, GO, BACK, TO, THE, KITCHEN, mem...               10  \n",
       "9995  [WAITING, FOR, THE, END, OF, THE, COVID, imgfl...               10  \n",
       "\n",
       "[382 rows x 9 columns]"
      ]
     },
     "execution_count": 18,
     "metadata": {},
     "output_type": "execute_result"
    }
   ],
   "source": [
    "dataset.df[dataset.df['sentence_counts']==10]"
   ]
  },
  {
   "cell_type": "code",
   "execution_count": 15,
   "id": "ed677871-2d5c-4104-955b-cb9c60ce5a33",
   "metadata": {},
   "outputs": [
    {
     "data": {
      "text/plain": [
       "array([list(['I', 'feel', 'bad', 'that', 'you', 'do', 'all', 'the', 'cooking', ',', 'but', 'I', 'can', \"'\", 't', 'make', 'food', 'as', 'nice', 'as', 'you', 'do', '.', 'Would', 'you', 'be', 'fine', 'with', 'Spaghetti', 'and', 'meatballs', '?', 'Thats', 'OK', 'I', \"'\", 'm', 'not', 'picky', '.', 'That', 'would', 'be', 'great', 'actually', ',', 'it', \"'\", 's', 'one', 'of', 'my', 'favorites', '.'])],\n",
       "      dtype=object)"
      ]
     },
     "execution_count": 15,
     "metadata": {},
     "output_type": "execute_result"
    }
   ],
   "source": [
    "dataset.df[dataset.df['file_name']=='10011.jpg']['text'].values"
   ]
  },
  {
   "cell_type": "code",
   "execution_count": null,
   "id": "f7208ef3-cadb-4c98-ac41-874c877c1388",
   "metadata": {},
   "outputs": [],
   "source": []
  },
  {
   "cell_type": "code",
   "execution_count": null,
   "id": "9d567947-0967-49aa-9af9-7f3f971028a1",
   "metadata": {},
   "outputs": [],
   "source": []
  }
 ],
 "metadata": {
  "kernelspec": {
   "display_name": "PyCharm (untitled)",
   "language": "python",
   "name": "pycharm-4b0cbf1"
  },
  "language_info": {
   "codemirror_mode": {
    "name": "ipython",
    "version": 3
   },
   "file_extension": ".py",
   "mimetype": "text/x-python",
   "name": "python",
   "nbconvert_exporter": "python",
   "pygments_lexer": "ipython3",
   "version": "3.6.10"
  }
 },
 "nbformat": 4,
 "nbformat_minor": 5
}
